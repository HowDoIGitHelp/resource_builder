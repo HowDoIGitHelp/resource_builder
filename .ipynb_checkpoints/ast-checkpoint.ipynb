{
 "cells": [
  {
   "cell_type": "code",
   "execution_count": 1,
   "id": "bc52b686-3356-4d61-9c02-60f4dd525fd0",
   "metadata": {},
   "outputs": [
    {
     "name": "stdout",
     "output_type": "stream",
     "text": [
      "0 <mistletoe.block_token.Heading with 1 child line_number=1 level=1 at 0x7f52e04faa50>\n",
      "1 <mistletoe.markdown_renderer.BlankLine with 0 children line_number=2 at 0x7f52e04facf0>\n",
      "2 <mistletoe.block_token.Paragraph with 12 children line_number=3 at 0x7f52e04fae40>\n",
      "3 <mistletoe.markdown_renderer.BlankLine with 0 children line_number=6 at 0x7f52e071fd90>\n",
      "4 <mistletoe.block_token.Paragraph with 1 child line_number=7 at 0x7f52e071f750>\n",
      "5 <mistletoe.markdown_renderer.BlankLine with 0 children line_number=8 at 0x7f52e071fed0>\n",
      "6 <mistletoe.block_token.Heading with 1 child line_number=9 level=2 at 0x7f52e071fc50>\n",
      "7 <mistletoe.markdown_renderer.BlankLine with 0 children line_number=10 at 0x7f52e0535940>\n",
      "8 <mistletoe.block_token.List with 3 children line_number=11 loose=False start=None at 0x7f52e04faf90>\n",
      "9 <mistletoe.markdown_renderer.BlankLine with 0 children line_number=14 at 0x7f52e0535cd0>\n",
      "10 <mistletoe.block_token.Heading with 1 child line_number=15 level=1 at 0x7f52e0384b90>\n",
      "11 <mistletoe.markdown_renderer.BlankLine with 0 children line_number=16 at 0x7f52e0551370>\n",
      "12 <mistletoe.block_token.CodeFence with 1 child line_number=17 language='python' at 0x7f52e04fb770>\n"
     ]
    }
   ],
   "source": [
    "import json\n",
    "from ASTcollapser import *\n",
    "\n",
    "\n",
    "from mistletoe import Document\n",
    "from mistletoe.markdown_renderer import MarkdownRenderer,BlankLine\n",
    "from mistletoe.html_renderer import HTMLRenderer\n",
    "\n",
    "with open('test.md','r') as mdfile:\n",
    "    with MarkdownRenderer() as renderer:\n",
    "        doc = Document(mdfile)\n",
    "        for i,child in enumerate(doc.children):\n",
    "            print(i,child)\n",
    "\n",
    "sentence = splitParagraph(doc.children[2])[0]"
   ]
  },
  {
   "cell_type": "code",
   "execution_count": 2,
   "id": "ac1fa642-05e1-4bf0-b5a5-514c7d2271c1",
   "metadata": {},
   "outputs": [
    {
     "name": "stdout",
     "output_type": "stream",
     "text": [
      "<class 'ASTcollapser.EmphasizedSentence'> *strong* emphasis\n"
     ]
    }
   ],
   "source": [
    "#print(type(collapse(sentence)))\n",
    "for part in collapse(sentence).importantParts():\n",
    "    print(type(part),part)\n",
    "    #print(part.importantParts()[0])"
   ]
  },
  {
   "cell_type": "code",
   "execution_count": 3,
   "id": "35080be0-22ba-4b3e-be50-c90a4a6d1086",
   "metadata": {},
   "outputs": [
    {
     "name": "stdout",
     "output_type": "stream",
     "text": [
      "<class 'ASTcollapser.Sentence'> is a paragraph\n"
     ]
    }
   ],
   "source": [
    "#print(type(collapse(sentence)))\n",
    "for part in collapse(splitParagraph(doc.children[2])[1]).importantParts():\n",
    "    print(type(part),part)\n",
    "    #print(part.importantParts()[0])"
   ]
  },
  {
   "cell_type": "code",
   "execution_count": 4,
   "id": "70f20d04-0b8a-4c88-93c3-46f6cef31f74",
   "metadata": {},
   "outputs": [
    {
     "name": "stdout",
     "output_type": "stream",
     "text": [
      "0 <class 'mistletoe.span_token.RawText'> Paragraphs with \n",
      "\n",
      "1 <class 'mistletoe.span_token.Strong'> ***strong* emphasis**\n",
      "\n",
      "2 <class 'mistletoe.span_token.LineBreak'> \n",
      "\n",
      "3 <class 'mistletoe.span_token.RawText'> Paragraph $1+3-3$ \n",
      "\n",
      "4 <class 'mistletoe.span_token.Strong'> **is a paragraph**\n",
      "\n",
      "5 <class 'mistletoe.span_token.RawText'> .\n",
      "\n",
      "6 <class 'mistletoe.span_token.LineBreak'> \n",
      "\n",
      "7 <class 'mistletoe.span_token.RawText'> I \n",
      "\n",
      "8 <class 'mistletoe.span_token.Emphasis'> *should*\n",
      "\n",
      "9 <class 'mistletoe.span_token.RawText'>  be part of \n",
      "\n",
      "10 <class 'mistletoe.span_token.InlineCode'> `the previous`\n",
      "\n",
      "11 <class 'mistletoe.span_token.RawText'>  paragraph.\n",
      "\n"
     ]
    }
   ],
   "source": [
    "for i,child in enumerate(doc.children[2].children):\n",
    "    print(i, type(child), renderer.render(child))"
   ]
  },
  {
   "cell_type": "code",
   "execution_count": 5,
   "id": "c0c73179-387b-4709-b2f1-94a51685e700",
   "metadata": {},
   "outputs": [
    {
     "ename": "NameError",
     "evalue": "name 'data' is not defined",
     "output_type": "error",
     "traceback": [
      "\u001b[31m---------------------------------------------------------------------------\u001b[39m",
      "\u001b[31mNameError\u001b[39m                                 Traceback (most recent call last)",
      "\u001b[36mCell\u001b[39m\u001b[36m \u001b[39m\u001b[32mIn[5]\u001b[39m\u001b[32m, line 1\u001b[39m\n\u001b[32m----> \u001b[39m\u001b[32m1\u001b[39m \u001b[38;5;28mprint\u001b[39m(collapse(splitParagraph(\u001b[43mdata\u001b[49m[\u001b[33m'\u001b[39m\u001b[33mblocks\u001b[39m\u001b[33m'\u001b[39m][\u001b[32m1\u001b[39m])[\u001b[32m1\u001b[39m]))\n",
      "\u001b[31mNameError\u001b[39m: name 'data' is not defined"
     ]
    }
   ],
   "source": [
    "print(collapse(splitParagraph(data['blocks'][1])[1]))"
   ]
  },
  {
   "cell_type": "code",
   "execution_count": 5,
   "id": "955c28c4-67b4-4fd8-adcd-919e79a302cd",
   "metadata": {},
   "outputs": [
    {
     "name": "stdout",
     "output_type": "stream",
     "text": [
      "another paragraph.\n"
     ]
    }
   ],
   "source": [
    "print(collapse(splitParagraph(data['blocks'][2])[0]))"
   ]
  },
  {
   "cell_type": "code",
   "execution_count": 6,
   "id": "d1f327c1-6d36-4967-860d-dfa022e491ba",
   "metadata": {},
   "outputs": [
    {
     "ename": "TypeError",
     "evalue": "list indices must be integers or slices, not str",
     "output_type": "error",
     "traceback": [
      "\u001b[31m---------------------------------------------------------------------------\u001b[39m",
      "\u001b[31mTypeError\u001b[39m                                 Traceback (most recent call last)",
      "\u001b[36mCell\u001b[39m\u001b[36m \u001b[39m\u001b[32mIn[6]\u001b[39m\u001b[32m, line 1\u001b[39m\n\u001b[32m----> \u001b[39m\u001b[32m1\u001b[39m \u001b[38;5;28mprint\u001b[39m(collapse(\u001b[43msplitParagraph\u001b[49m\u001b[43m(\u001b[49m\u001b[43mdata\u001b[49m\u001b[43m[\u001b[49m\u001b[33;43m'\u001b[39;49m\u001b[33;43mblocks\u001b[39;49m\u001b[33;43m'\u001b[39;49m\u001b[43m]\u001b[49m\u001b[43m[\u001b[49m\u001b[32;43m4\u001b[39;49m\u001b[43m]\u001b[49m\u001b[43m)\u001b[49m[\u001b[32m0\u001b[39m]))\n",
      "\u001b[36mFile \u001b[39m\u001b[32m~/Projects/resource_builder/ASTcollapser.py:40\u001b[39m, in \u001b[36msplitParagraph\u001b[39m\u001b[34m(paragraph)\u001b[39m\n\u001b[32m     38\u001b[39m line:\u001b[38;5;28mlist\u001b[39m = []\n\u001b[32m     39\u001b[39m \u001b[38;5;28;01mfor\u001b[39;00m d \u001b[38;5;129;01min\u001b[39;00m paragraph[\u001b[33m'\u001b[39m\u001b[33mc\u001b[39m\u001b[33m'\u001b[39m]:\n\u001b[32m---> \u001b[39m\u001b[32m40\u001b[39m     \u001b[38;5;28;01mif\u001b[39;00m \u001b[43md\u001b[49m\u001b[43m[\u001b[49m\u001b[33;43m'\u001b[39;49m\u001b[33;43mt\u001b[39;49m\u001b[33;43m'\u001b[39;49m\u001b[43m]\u001b[49m == \u001b[33m'\u001b[39m\u001b[33mSoftBreak\u001b[39m\u001b[33m'\u001b[39m:\n\u001b[32m     41\u001b[39m         lineList.append(line)\n\u001b[32m     42\u001b[39m         line = []\n",
      "\u001b[31mTypeError\u001b[39m: list indices must be integers or slices, not str"
     ]
    }
   ],
   "source": [
    "print(collapse(splitParagraph(data['blocks'][4])[0]))"
   ]
  },
  {
   "cell_type": "code",
   "execution_count": null,
   "id": "74d63caa-db00-4989-bd81-39fdfb432d44",
   "metadata": {},
   "outputs": [],
   "source": []
  },
  {
   "cell_type": "code",
   "execution_count": null,
   "id": "d45fd2e0-f193-40ee-8597-4cd69a7d7788",
   "metadata": {},
   "outputs": [],
   "source": []
  }
 ],
 "metadata": {
  "kernelspec": {
   "display_name": "Python 3 (ipykernel)",
   "language": "python",
   "name": "python3"
  },
  "language_info": {
   "codemirror_mode": {
    "name": "ipython",
    "version": 3
   },
   "file_extension": ".py",
   "mimetype": "text/x-python",
   "name": "python",
   "nbconvert_exporter": "python",
   "pygments_lexer": "ipython3",
   "version": "3.13.4"
  }
 },
 "nbformat": 4,
 "nbformat_minor": 5
}
