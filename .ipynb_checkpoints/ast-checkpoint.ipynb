{
 "cells": [
  {
   "cell_type": "code",
   "execution_count": 1,
   "id": "bc52b686-3356-4d61-9c02-60f4dd525fd0",
   "metadata": {},
   "outputs": [
    {
     "name": "stdout",
     "output_type": "stream",
     "text": [
      "0 <mistletoe.block_token.Heading with 1 child line_number=1 level=1 at 0x7fdc282feba0>\n",
      "1 <mistletoe.markdown_renderer.BlankLine with 0 children line_number=2 at 0x7fdc282fee40>\n",
      "2 <mistletoe.block_token.Paragraph with 14 children line_number=3 at 0x7fdc282fef90>\n",
      "3 <mistletoe.markdown_renderer.BlankLine with 0 children line_number=6 at 0x7fdc28523ed0>\n",
      "4 <mistletoe.block_token.Paragraph with 1 child line_number=7 at 0x7fdc28523d90>\n",
      "5 <mistletoe.markdown_renderer.BlankLine with 0 children line_number=8 at 0x7fdc28522c10>\n",
      "6 <mistletoe.block_token.Heading with 1 child line_number=9 level=2 at 0x7fdc28523890>\n",
      "7 <mistletoe.markdown_renderer.BlankLine with 0 children line_number=10 at 0x7fdc28349940>\n",
      "8 <mistletoe.block_token.List with 3 children line_number=11 loose=False start=None at 0x7fdc282ff0e0>\n",
      "9 <mistletoe.markdown_renderer.BlankLine with 0 children line_number=16 at 0x7fdc2834a060>\n",
      "10 <mistletoe.block_token.Heading with 1 child line_number=17 level=1 at 0x7fdc2818ce10>\n",
      "11 <mistletoe.markdown_renderer.BlankLine with 0 children line_number=18 at 0x7fdc28155130>\n",
      "12 <mistletoe.block_token.CodeFence with 1 child line_number=19 language='python' at 0x7fdc282ff8c0>\n"
     ]
    }
   ],
   "source": [
    "import json\n",
    "from ASTcollapser import *\n",
    "\n",
    "\n",
    "from mistletoe import Document\n",
    "from mistletoe.markdown_renderer import MarkdownRenderer,BlankLine\n",
    "from mistletoe.html_renderer import HTMLRenderer\n",
    "from mistletoe.block_token import List, ListItem\n",
    "\n",
    "with open('test.md','r') as mdfile:\n",
    "    with MarkdownRenderer() as renderer:\n",
    "        doc = Document(mdfile)\n",
    "        for i,child in enumerate(doc.children):\n",
    "            print(i,child)\n",
    "\n",
    "sentence = splitParagraph(doc.children[2])[0]"
   ]
  },
  {
   "cell_type": "code",
   "execution_count": 2,
   "id": "ac1fa642-05e1-4bf0-b5a5-514c7d2271c1",
   "metadata": {
    "scrolled": true
   },
   "outputs": [
    {
     "name": "stdout",
     "output_type": "stream",
     "text": [
      "<class 'ASTcollapser.EmphasizedSentence'> *strong* *emphasis*\n",
      "<class 'ASTcollapser.Sentence'> strong\n",
      "<class 'ASTcollapser.Sentence'> emphasis\n"
     ]
    }
   ],
   "source": [
    "#print(type(collapse(sentence)))\n",
    "for part in collapse(sentence).importantParts():\n",
    "    print(type(part),part)\n",
    "    #for p in part.importantParts():\n",
    "     #   print(type(p), p)"
   ]
  },
  {
   "cell_type": "code",
   "execution_count": 3,
   "id": "fa930bdf-e326-4ea7-b86f-9529e6d98de7",
   "metadata": {},
   "outputs": [
    {
     "data": {
      "text/plain": [
       "5"
      ]
     },
     "execution_count": 3,
     "metadata": {},
     "output_type": "execute_result"
    }
   ],
   "source": [
    "paragraphHeight(doc.children[2])"
   ]
  },
  {
   "cell_type": "code",
   "execution_count": 4,
   "id": "70f20d04-0b8a-4c88-93c3-46f6cef31f74",
   "metadata": {},
   "outputs": [
    {
     "name": "stdout",
     "output_type": "stream",
     "text": [
      "<class 'ASTcollapser.Sentence'> should\n",
      "<class 'ASTcollapser.Sentence'> part of\n"
     ]
    }
   ],
   "source": [
    "#print(type(collapse(sentence)))\n",
    "for part in collapse(splitParagraph(doc.children[2])[2]).importantParts():\n",
    "    print(type(part),part)\n",
    "    #print(part.importantParts()[0])"
   ]
  },
  {
   "cell_type": "code",
   "execution_count": 5,
   "id": "9d395ba0-e23e-44ac-b137-4fdeeb700a92",
   "metadata": {},
   "outputs": [
    {
     "name": "stdout",
     "output_type": "stream",
     "text": [
      "<class 'mistletoe.block_token.ListItem'> - list **item 1**\n",
      "    - sub item 1\n",
      "    - sub item 2\n",
      "\n",
      "<class 'mistletoe.block_token.ListItem'> - list item 2\n",
      "\n",
      "<class 'mistletoe.block_token.ListItem'> - list item 3\n",
      "\n"
     ]
    }
   ],
   "source": [
    "for child in doc.children[8].children:\n",
    "    print(type(child), renderer.render(child))"
   ]
  },
  {
   "cell_type": "code",
   "execution_count": 46,
   "id": "e1b23d2b-1aa2-45c8-b967-bdac7bf161c0",
   "metadata": {},
   "outputs": [
    {
     "data": {
      "text/plain": [
       "[<mistletoe.block_token.Paragraph with 2 children line_number=11 at 0x7f2bd433b650>,\n",
       " <mistletoe.block_token.List with 2 children line_number=12 loose=False start=None at 0x7f2be446a360>]"
      ]
     },
     "execution_count": 46,
     "metadata": {},
     "output_type": "execute_result"
    }
   ],
   "source": [
    "doc.children[8].children[0].children"
   ]
  },
  {
   "cell_type": "code",
   "execution_count": 47,
   "id": "01400213-803b-4b68-ad15-d7b3e2adf0bf",
   "metadata": {},
   "outputs": [
    {
     "data": {
      "text/plain": [
       "<mistletoe.block_token.Paragraph with 1 child line_number=14 at 0x7f2bd443c9f0>"
      ]
     },
     "execution_count": 47,
     "metadata": {},
     "output_type": "execute_result"
    }
   ],
   "source": [
    "doc.children[8].children[1].children[0]"
   ]
  },
  {
   "cell_type": "code",
   "execution_count": null,
   "id": "2bdabf8c-4a48-488b-b2b4-d0f377bd796a",
   "metadata": {},
   "outputs": [],
   "source": []
  }
 ],
 "metadata": {
  "kernelspec": {
   "display_name": "Python 3 (ipykernel)",
   "language": "python",
   "name": "python3"
  },
  "language_info": {
   "codemirror_mode": {
    "name": "ipython",
    "version": 3
   },
   "file_extension": ".py",
   "mimetype": "text/x-python",
   "name": "python",
   "nbconvert_exporter": "python",
   "pygments_lexer": "ipython3",
   "version": "3.13.4"
  }
 },
 "nbformat": 4,
 "nbformat_minor": 5
}
