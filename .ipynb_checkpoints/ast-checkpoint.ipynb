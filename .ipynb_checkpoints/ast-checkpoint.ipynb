{
 "cells": [
  {
   "cell_type": "code",
   "execution_count": 1,
   "id": "bc52b686-3356-4d61-9c02-60f4dd525fd0",
   "metadata": {},
   "outputs": [
    {
     "data": {
      "text/plain": [
       "[<ASTcollapser.HeadingBlock at 0x7f8d89e83770>,\n",
       " <ASTcollapser.ParagraphBlock at 0x7f8d89e83b60>,\n",
       " <ASTcollapser.ParagraphBlock at 0x7f8d88d2d810>,\n",
       " <ASTcollapser.HeadingBlock at 0x7f8d88d2d950>,\n",
       " <ASTcollapser.MathBlock at 0x7f8d89e838c0>,\n",
       " <ASTcollapser.HeadingBlock at 0x7f8d88d2dd10>,\n",
       " <ASTcollapser.QuoteBlock at 0x7f8d88d381a0>,\n",
       " <ASTcollapser.HeadingBlock at 0x7f8d89eeefd0>,\n",
       " <ASTcollapser.ListBlock at 0x7f8d88d382f0>,\n",
       " <ASTcollapser.HeadingBlock at 0x7f8d89eef950>,\n",
       " <ASTcollapser.ListBlock at 0x7f8d89eefa80>]"
      ]
     },
     "execution_count": 1,
     "metadata": {},
     "output_type": "execute_result"
    }
   ],
   "source": [
    "import json\n",
    "from ASTcollapser import *\n",
    "import re\n",
    "\n",
    "from mistletoe import Document\n",
    "from mistletoe.markdown_renderer import MarkdownRenderer,BlankLine, LinkReferenceDefinition\n",
    "from mistletoe.html_renderer import HTMLRenderer\n",
    "from mistletoe.block_token import List, ListItem\n",
    "from mistletoe.span_token import SpanToken\n",
    "\n",
    "with open('test.md','r') as mdfile:\n",
    "    #with MarkdownRenderer() as renderer:\n",
    "    doc = Document(mdfile)\n",
    "    blocks = []\n",
    "    for i,child in enumerate(doc.children):\n",
    "        #print(\n",
    "        if not isInvisible(child):\n",
    "            blocks.append(asBlock(child))\n",
    "\n",
    "blocks"
   ]
  },
  {
   "cell_type": "code",
   "execution_count": 2,
   "id": "4c50af85-9fa6-4725-a2d2-4fa51082d41f",
   "metadata": {},
   "outputs": [
    {
     "name": "stdout",
     "output_type": "stream",
     "text": [
      "1:1\n",
      "1:asdasd\n",
      "2:1.1\n",
      "2:poop\n",
      "2:1.2\n",
      "3:1.2.1\n",
      "4:1.2.1.1\n"
     ]
    }
   ],
   "source": [
    "for item in blocks[8].items():\n",
    "    print(item)"
   ]
  },
  {
   "cell_type": "code",
   "execution_count": 4,
   "id": "d3ff4944-8181-40a6-bb59-a643ac568b7c",
   "metadata": {},
   "outputs": [
    {
     "name": "stdout",
     "output_type": "stream",
     "text": [
      "1:1\n",
      "2:1.1\n",
      "1:2\n",
      "2:2.2\n"
     ]
    }
   ],
   "source": [
    "for item in blocks[10].items():\n",
    "    print(item)"
   ]
  },
  {
   "cell_type": "code",
   "execution_count": 4,
   "id": "8047c618-330b-45ba-806e-ab7e1a08d223",
   "metadata": {},
   "outputs": [
    {
     "name": "stdout",
     "output_type": "stream",
     "text": [
      "None\n",
      "---\n",
      "None\n",
      "---\n"
     ]
    }
   ],
   "source": [
    "for slide in blocks[8].slides(blocks[0]):\n",
    "    print(slide)\n",
    "    print('---')"
   ]
  },
  {
   "cell_type": "code",
   "execution_count": 5,
   "id": "e4322ad4-3392-4eb8-afef-32dd6cc1238a",
   "metadata": {},
   "outputs": [
    {
     "name": "stdout",
     "output_type": "stream",
     "text": [
      "# header one\n",
      "\n",
      "$$\n",
      "\\begin{aligned}\n",
      "x &= 2y\\\\\n",
      "y &= 2x\\\\\n",
      "e &= \\begin{bmatrix}1 & 2\\\\3 & 1\\end{bmatrix}\n",
      "\\end{aligned}\n",
      "$$\n",
      "---\n"
     ]
    }
   ],
   "source": [
    "for slide in blocks[4].slides(blocks[0]):\n",
    "    print(slide)\n",
    "    print('---')"
   ]
  },
  {
   "cell_type": "code",
   "execution_count": 5,
   "id": "d77798c1-cb85-42ad-970d-af6485c3fb4b",
   "metadata": {},
   "outputs": [
    {
     "name": "stdout",
     "output_type": "stream",
     "text": [
      "# header one\n",
      "\n",
      "```python\n",
      "with open('test.md','r') as mdfile:\n",
      "    #with MarkdownRenderer() as renderer:\n",
      "```\n",
      "\n",
      "---\n",
      "\n",
      "# header one\n",
      "\n",
      "```python\n",
      "    doc = Document(mdfile)\n",
      "    blocks = []\n",
      "    for i,child in enumerate(doc.children):\n",
      "```\n",
      "\n",
      "---\n",
      "\n",
      "# header one\n",
      "\n",
      "```python\n",
      "        #print(\n",
      "        if not isInvisible(child):\n",
      "```\n",
      "\n",
      "---\n",
      "\n",
      "# header one\n",
      "\n",
      "```python\n",
      "            blocks.append(asBlock(child))\n",
      "\n",
      "blocks\n",
      "\n",
      "```\n",
      "\n",
      "---\n",
      "\n"
     ]
    }
   ],
   "source": [
    "for slide in blocks[8].slides(blocks[0]):\n",
    "    print(slide)\n",
    "    print('\\n---\\n')"
   ]
  },
  {
   "cell_type": "code",
   "execution_count": 4,
   "id": "ac2c957d-2b40-425f-b5a1-3b6befc4de59",
   "metadata": {},
   "outputs": [
    {
     "name": "stdout",
     "output_type": "stream",
     "text": [
      "Paragraphs with ***strong* *emphasis***. 40\n",
      "Paragraph $1+3-3$ **is a paragraph**. 37\n",
      "I *should* be **part of** `the previous` paragraph. 51\n"
     ]
    }
   ],
   "source": [
    "for sentence in blocks[1]._ParagraphBlock__sentences:\n",
    "    print(sentence, sentence.size())"
   ]
  },
  {
   "cell_type": "code",
   "execution_count": 53,
   "id": "8d9b3e36-bc84-4ff7-a6d1-3bc586d79e40",
   "metadata": {},
   "outputs": [
    {
     "data": {
      "text/plain": [
       "(mistletoe.token.Token,)"
      ]
     },
     "execution_count": 53,
     "metadata": {},
     "output_type": "execute_result"
    }
   ],
   "source": [
    "LinkReferenceDefinition.__bases__\n",
    "SpanToken.__bases__"
   ]
  },
  {
   "cell_type": "code",
   "execution_count": 3,
   "id": "6acf46e8-f728-4bf5-ab5b-1feb8a0607d7",
   "metadata": {},
   "outputs": [
    {
     "name": "stdout",
     "output_type": "stream",
     "text": [
      "2\n",
      "2\n"
     ]
    }
   ],
   "source": [
    "for line in mathBlock._MathBlock__lines:\n",
    "    print(line.height())"
   ]
  },
  {
   "cell_type": "code",
   "execution_count": 4,
   "id": "6da20a75-89a3-46f1-b677-871eff8f675e",
   "metadata": {},
   "outputs": [
    {
     "data": {
      "text/plain": [
       "4"
      ]
     },
     "execution_count": 4,
     "metadata": {},
     "output_type": "execute_result"
    }
   ],
   "source": [
    "mathBlock.height()"
   ]
  },
  {
   "cell_type": "code",
   "execution_count": 6,
   "id": "ac1fa642-05e1-4bf0-b5a5-514c7d2271c1",
   "metadata": {
    "scrolled": true
   },
   "outputs": [
    {
     "name": "stdout",
     "output_type": "stream",
     "text": [
      "<class 'ASTcollapser.EmphasizedSentence'> *strong* *emphasis*\n",
      "<class 'ASTcollapser.Sentence'> strong\n",
      "<class 'ASTcollapser.Sentence'> emphasis\n"
     ]
    }
   ],
   "source": [
    "#print(type(collapse(sentence)))\n",
    "for part in collapse(sentence).importantParts():\n",
    "    print(type(part),part)\n",
    "    #for p in part.importantParts():\n",
    "     #   print(type(p), p)"
   ]
  },
  {
   "cell_type": "code",
   "execution_count": 3,
   "id": "fa930bdf-e326-4ea7-b86f-9529e6d98de7",
   "metadata": {},
   "outputs": [
    {
     "data": {
      "text/plain": [
       "131"
      ]
     },
     "execution_count": 3,
     "metadata": {},
     "output_type": "execute_result"
    }
   ],
   "source": [
    "paragraphBlock.paragraphSize()"
   ]
  },
  {
   "cell_type": "code",
   "execution_count": 4,
   "id": "70f20d04-0b8a-4c88-93c3-46f6cef31f74",
   "metadata": {},
   "outputs": [
    {
     "data": {
      "text/plain": [
       "6"
      ]
     },
     "execution_count": 4,
     "metadata": {},
     "output_type": "execute_result"
    }
   ],
   "source": [
    "lb = ListBlock(doc.children[8])\n",
    "lb.height()"
   ]
  },
  {
   "cell_type": "code",
   "execution_count": 16,
   "id": "9d395ba0-e23e-44ac-b137-4fdeeb700a92",
   "metadata": {},
   "outputs": [
    {
     "data": {
      "text/plain": [
       "'  - sub item 3.1\\n    - sub item 3.1.1\\n'"
      ]
     },
     "execution_count": 16,
     "metadata": {},
     "output_type": "execute_result"
    }
   ],
   "source": [
    "renderer.render(doc.children[8].children[2].children[1])"
   ]
  },
  {
   "cell_type": "code",
   "execution_count": 21,
   "id": "e1b23d2b-1aa2-45c8-b967-bdac7bf161c0",
   "metadata": {},
   "outputs": [
    {
     "data": {
      "text/plain": [
       "132"
      ]
     },
     "execution_count": 21,
     "metadata": {},
     "output_type": "execute_result"
    }
   ],
   "source": [
    "len(\"\"\"\n",
    "Paragraphs with ***strong* *emphasis***.\n",
    "Paragraph $1+3-3$ **is a paragraph**.\n",
    "I *should* be **part of** `the previous` paragraph.\n",
    "\"\"\")"
   ]
  },
  {
   "cell_type": "code",
   "execution_count": 47,
   "id": "01400213-803b-4b68-ad15-d7b3e2adf0bf",
   "metadata": {},
   "outputs": [
    {
     "data": {
      "text/plain": [
       "<mistletoe.block_token.Paragraph with 1 child line_number=14 at 0x7f2bd443c9f0>"
      ]
     },
     "execution_count": 47,
     "metadata": {},
     "output_type": "execute_result"
    }
   ],
   "source": [
    "doc.children[8].children[1].children[0]"
   ]
  },
  {
   "cell_type": "code",
   "execution_count": 68,
   "id": "2bdabf8c-4a48-488b-b2b4-d0f377bd796a",
   "metadata": {},
   "outputs": [
    {
     "name": "stdout",
     "output_type": "stream",
     "text": [
      "Found match:\n",
      "Content here\n",
      "    More content\n",
      "    \\begin{aligned}\n",
      "        Nested content\n"
     ]
    }
   ],
   "source": [
    "import re\n",
    "\n",
    "text = r\"\"\"\n",
    "Some text before\n",
    "\\begin{aligned}\n",
    "    Content here\n",
    "    More content\n",
    "    \\begin{aligned}\n",
    "        Nested content\n",
    "    \\end{aligned}\n",
    "\\end{aligned}\n",
    "Some text after\n",
    "\"\"\"\n",
    "\n",
    "pattern = re.compile(r'\\\\begin{aligned}(.*?)\\\\end{aligned}', re.DOTALL)\n",
    "matches = pattern.findall(text)\n",
    "\n",
    "for match in matches:\n",
    "    print(\"Found match:\")\n",
    "    print(match.strip())"
   ]
  },
  {
   "cell_type": "code",
   "execution_count": 12,
   "id": "9d7b581f-abc4-476b-bb08-7861a8d5d5c7",
   "metadata": {},
   "outputs": [
    {
     "data": {
      "text/plain": [
       "29"
      ]
     },
     "execution_count": 12,
     "metadata": {},
     "output_type": "execute_result"
    }
   ],
   "source": [
    "len('Double quoted. Sentence. Wow.')"
   ]
  },
  {
   "cell_type": "code",
   "execution_count": null,
   "id": "d422a10c-55bd-447c-9846-fc7ec342c9f0",
   "metadata": {},
   "outputs": [],
   "source": []
  }
 ],
 "metadata": {
  "kernelspec": {
   "display_name": "Python 3 (ipykernel)",
   "language": "python",
   "name": "python3"
  },
  "language_info": {
   "codemirror_mode": {
    "name": "ipython",
    "version": 3
   },
   "file_extension": ".py",
   "mimetype": "text/x-python",
   "name": "python",
   "nbconvert_exporter": "python",
   "pygments_lexer": "ipython3",
   "version": "3.13.4"
  }
 },
 "nbformat": 4,
 "nbformat_minor": 5
}
