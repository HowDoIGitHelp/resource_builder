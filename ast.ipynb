{
 "cells": [
  {
   "cell_type": "code",
   "execution_count": 24,
   "id": "bc52b686-3356-4d61-9c02-60f4dd525fd0",
   "metadata": {},
   "outputs": [
    {
     "name": "stdout",
     "output_type": "stream",
     "text": [
      "0 <mistletoe.block_token.Heading with 1 child line_number=1 level=1 at 0x7faa900be7b0>\n",
      "1 <mistletoe.markdown_renderer.BlankLine with 0 children line_number=2 at 0x7faa81294e50>\n",
      "2 <mistletoe.block_token.Paragraph with 14 children line_number=3 at 0x7faa813be670>\n",
      "3 <mistletoe.markdown_renderer.BlankLine with 0 children line_number=6 at 0x7faa81294d70>\n",
      "4 <mistletoe.block_token.Paragraph with 1 child line_number=7 at 0x7faa812f1e20>\n",
      "5 <mistletoe.markdown_renderer.BlankLine with 0 children line_number=8 at 0x7faa812f6150>\n",
      "6 <mistletoe.block_token.Heading with 1 child line_number=9 level=2 at 0x7faa900be510>\n",
      "7 <mistletoe.markdown_renderer.BlankLine with 0 children line_number=10 at 0x7faa812f6210>\n",
      "8 <mistletoe.block_token.List with 3 children line_number=11 loose=False start=None at 0x7faa90252650>\n",
      "9 <mistletoe.markdown_renderer.BlankLine with 0 children line_number=14 at 0x7faa812f63f0>\n",
      "10 <mistletoe.block_token.Heading with 1 child line_number=15 level=1 at 0x7faa9027fd40>\n",
      "11 <mistletoe.markdown_renderer.BlankLine with 0 children line_number=16 at 0x7faa812f64b0>\n",
      "12 <mistletoe.block_token.CodeFence with 1 child line_number=17 language='python' at 0x7faa90252fd0>\n"
     ]
    }
   ],
   "source": [
    "import json\n",
    "from ASTcollapser import *\n",
    "\n",
    "\n",
    "from mistletoe import Document\n",
    "from mistletoe.markdown_renderer import MarkdownRenderer,BlankLine\n",
    "from mistletoe.html_renderer import HTMLRenderer\n",
    "\n",
    "with open('test.md','r') as mdfile:\n",
    "    with MarkdownRenderer() as renderer:\n",
    "        doc = Document(mdfile)\n",
    "        for i,child in enumerate(doc.children):\n",
    "            print(i,child)\n",
    "\n",
    "sentence = splitParagraph(doc.children[2])[0]"
   ]
  },
  {
   "cell_type": "code",
   "execution_count": 25,
   "id": "ac1fa642-05e1-4bf0-b5a5-514c7d2271c1",
   "metadata": {
    "scrolled": true
   },
   "outputs": [
    {
     "name": "stdout",
     "output_type": "stream",
     "text": [
      "<class 'ASTcollapser.EmphasizedSentence'> *strong* *emphasis*\n",
      "<class 'ASTcollapser.Sentence'> strong\n",
      "<class 'ASTcollapser.Sentence'> emphasis\n"
     ]
    }
   ],
   "source": [
    "#print(type(collapse(sentence)))\n",
    "for part in collapse(sentence).importantParts():\n",
    "    print(type(part),part)\n",
    "    #for p in part.importantParts():\n",
    "     #   print(type(p), p)"
   ]
  },
  {
   "cell_type": "code",
   "execution_count": 26,
   "id": "fa930bdf-e326-4ea7-b86f-9529e6d98de7",
   "metadata": {},
   "outputs": [
    {
     "name": "stdout",
     "output_type": "stream",
     "text": [
      "<class 'ASTcollapser.Sentence'> is a paragraph\n"
     ]
    }
   ],
   "source": [
    "# print(type(collapse(sentence)))\n",
    "for part in collapse(splitParagraph(doc.children[2])[1]).importantParts():\n",
    "    print(type(part),part)\n",
    "    #print(part.importantParts())"
   ]
  },
  {
   "cell_type": "code",
   "execution_count": 27,
   "id": "70f20d04-0b8a-4c88-93c3-46f6cef31f74",
   "metadata": {},
   "outputs": [
    {
     "name": "stdout",
     "output_type": "stream",
     "text": [
      "<class 'ASTcollapser.Sentence'> should\n",
      "<class 'ASTcollapser.Sentence'> part of\n"
     ]
    }
   ],
   "source": [
    "#print(type(collapse(sentence)))\n",
    "for part in collapse(splitParagraph(doc.children[2])[2]).importantParts():\n",
    "    print(type(part),part)\n",
    "    #print(part.importantParts()[0])"
   ]
  },
  {
   "cell_type": "code",
   "execution_count": 28,
   "id": "c0c73179-387b-4709-b2f1-94a51685e700",
   "metadata": {},
   "outputs": [
    {
     "ename": "NameError",
     "evalue": "name 'data' is not defined",
     "output_type": "error",
     "traceback": [
      "\u001b[31m---------------------------------------------------------------------------\u001b[39m",
      "\u001b[31mNameError\u001b[39m                                 Traceback (most recent call last)",
      "\u001b[36mCell\u001b[39m\u001b[36m \u001b[39m\u001b[32mIn[28]\u001b[39m\u001b[32m, line 1\u001b[39m\n\u001b[32m----> \u001b[39m\u001b[32m1\u001b[39m \u001b[38;5;28mprint\u001b[39m(collapse(splitParagraph(\u001b[43mdata\u001b[49m[\u001b[33m'\u001b[39m\u001b[33mblocks\u001b[39m\u001b[33m'\u001b[39m][\u001b[32m1\u001b[39m])[\u001b[32m1\u001b[39m]))\n",
      "\u001b[31mNameError\u001b[39m: name 'data' is not defined"
     ]
    }
   ],
   "source": [
    "print(collapse(splitParagraph(data['blocks'][1])[1]))"
   ]
  },
  {
   "cell_type": "code",
   "execution_count": 29,
   "id": "955c28c4-67b4-4fd8-adcd-919e79a302cd",
   "metadata": {},
   "outputs": [
    {
     "ename": "NameError",
     "evalue": "name 'data' is not defined",
     "output_type": "error",
     "traceback": [
      "\u001b[31m---------------------------------------------------------------------------\u001b[39m",
      "\u001b[31mNameError\u001b[39m                                 Traceback (most recent call last)",
      "\u001b[36mCell\u001b[39m\u001b[36m \u001b[39m\u001b[32mIn[29]\u001b[39m\u001b[32m, line 1\u001b[39m\n\u001b[32m----> \u001b[39m\u001b[32m1\u001b[39m \u001b[38;5;28mprint\u001b[39m(collapse(splitParagraph(\u001b[43mdata\u001b[49m[\u001b[33m'\u001b[39m\u001b[33mblocks\u001b[39m\u001b[33m'\u001b[39m][\u001b[32m2\u001b[39m])[\u001b[32m0\u001b[39m]))\n",
      "\u001b[31mNameError\u001b[39m: name 'data' is not defined"
     ]
    }
   ],
   "source": [
    "print(collapse(splitParagraph(data['blocks'][2])[0]))"
   ]
  },
  {
   "cell_type": "code",
   "execution_count": 30,
   "id": "d1f327c1-6d36-4967-860d-dfa022e491ba",
   "metadata": {},
   "outputs": [
    {
     "ename": "NameError",
     "evalue": "name 'data' is not defined",
     "output_type": "error",
     "traceback": [
      "\u001b[31m---------------------------------------------------------------------------\u001b[39m",
      "\u001b[31mNameError\u001b[39m                                 Traceback (most recent call last)",
      "\u001b[36mCell\u001b[39m\u001b[36m \u001b[39m\u001b[32mIn[30]\u001b[39m\u001b[32m, line 1\u001b[39m\n\u001b[32m----> \u001b[39m\u001b[32m1\u001b[39m \u001b[38;5;28mprint\u001b[39m(collapse(splitParagraph(\u001b[43mdata\u001b[49m[\u001b[33m'\u001b[39m\u001b[33mblocks\u001b[39m\u001b[33m'\u001b[39m][\u001b[32m4\u001b[39m])[\u001b[32m0\u001b[39m]))\n",
      "\u001b[31mNameError\u001b[39m: name 'data' is not defined"
     ]
    }
   ],
   "source": [
    "print(collapse(splitParagraph(data['blocks'][4])[0]))"
   ]
  },
  {
   "cell_type": "code",
   "execution_count": null,
   "id": "74d63caa-db00-4989-bd81-39fdfb432d44",
   "metadata": {},
   "outputs": [],
   "source": []
  },
  {
   "cell_type": "code",
   "execution_count": null,
   "id": "d45fd2e0-f193-40ee-8597-4cd69a7d7788",
   "metadata": {},
   "outputs": [],
   "source": []
  },
  {
   "cell_type": "code",
   "execution_count": null,
   "id": "5d86a4e1-7f5b-4a86-b731-bcd36bd43fce",
   "metadata": {},
   "outputs": [],
   "source": []
  }
 ],
 "metadata": {
  "kernelspec": {
   "display_name": "Python 3 (ipykernel)",
   "language": "python",
   "name": "python3"
  },
  "language_info": {
   "codemirror_mode": {
    "name": "ipython",
    "version": 3
   },
   "file_extension": ".py",
   "mimetype": "text/x-python",
   "name": "python",
   "nbconvert_exporter": "python",
   "pygments_lexer": "ipython3",
   "version": "3.13.4"
  }
 },
 "nbformat": 4,
 "nbformat_minor": 5
}
