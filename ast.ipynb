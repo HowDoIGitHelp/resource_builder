{
 "cells": [
  {
   "cell_type": "code",
   "execution_count": 1,
   "id": "8ccc43d8-9d67-4e25-b1fc-edafd8d25325",
   "metadata": {},
   "outputs": [],
   "source": [
    "import json\n",
    "from ASTcollapser import *\n",
    "\n",
    "with open('test.json', 'r') as file:\n",
    "    data = json.load(file)"
   ]
  },
  {
   "cell_type": "code",
   "execution_count": 2,
   "id": "d429933c-d930-4d7b-b98f-ea78b0d4753a",
   "metadata": {},
   "outputs": [
    {
     "data": {
      "text/plain": [
       "{'t': 'Para',\n",
       " 'c': [{'t': 'Str', 'c': 'Paragraph'},\n",
       "  {'t': 'Space'},\n",
       "  {'t': 'Math', 'c': [{'t': 'InlineMath'}, '1+3-3']},\n",
       "  {'t': 'Space'},\n",
       "  {'t': 'Strong',\n",
       "   'c': [{'t': 'Str', 'c': 'is'},\n",
       "    {'t': 'Space'},\n",
       "    {'t': 'Str', 'c': 'a'},\n",
       "    {'t': 'Space'},\n",
       "    {'t': 'Str', 'c': 'paragraph'}]},\n",
       "  {'t': 'Str', 'c': '.'},\n",
       "  {'t': 'SoftBreak'},\n",
       "  {'t': 'Str', 'c': 'I'},\n",
       "  {'t': 'Space'},\n",
       "  {'t': 'Emph', 'c': [{'t': 'Str', 'c': 'should'}]},\n",
       "  {'t': 'Space'},\n",
       "  {'t': 'Str', 'c': 'be'},\n",
       "  {'t': 'Space'},\n",
       "  {'t': 'Str', 'c': 'part'},\n",
       "  {'t': 'Space'},\n",
       "  {'t': 'Str', 'c': 'of'},\n",
       "  {'t': 'Space'},\n",
       "  {'t': 'Code', 'c': [['', [], []], 'the previous']},\n",
       "  {'t': 'Space'},\n",
       "  {'t': 'Str', 'c': 'paragraph.'}]}"
      ]
     },
     "execution_count": 2,
     "metadata": {},
     "output_type": "execute_result"
    }
   ],
   "source": [
    "data['blocks'][1]"
   ]
  },
  {
   "cell_type": "code",
   "execution_count": 3,
   "id": "70f20d04-0b8a-4c88-93c3-46f6cef31f74",
   "metadata": {},
   "outputs": [
    {
     "name": "stdout",
     "output_type": "stream",
     "text": [
      "Paragraph \\(1+3-3\\) \\textbf{is a paragraph}.\n"
     ]
    }
   ],
   "source": [
    "print(collapse(splitParagraph(data['blocks'][1])[0]))"
   ]
  },
  {
   "cell_type": "code",
   "execution_count": 4,
   "id": "c0c73179-387b-4709-b2f1-94a51685e700",
   "metadata": {},
   "outputs": [
    {
     "name": "stdout",
     "output_type": "stream",
     "text": [
      "I \\emph{should} be part of \\texttt{the\\ previous} paragraph.\n"
     ]
    }
   ],
   "source": [
    "print(collapse(splitParagraph(data['blocks'][1])[1]))"
   ]
  },
  {
   "cell_type": "code",
   "execution_count": 5,
   "id": "955c28c4-67b4-4fd8-adcd-919e79a302cd",
   "metadata": {},
   "outputs": [
    {
     "name": "stdout",
     "output_type": "stream",
     "text": [
      "another paragraph.\n"
     ]
    }
   ],
   "source": [
    "print(collapse(splitParagraph(data['blocks'][2])[0]))"
   ]
  },
  {
   "cell_type": "code",
   "execution_count": 6,
   "id": "d1f327c1-6d36-4967-860d-dfa022e491ba",
   "metadata": {},
   "outputs": [
    {
     "ename": "TypeError",
     "evalue": "list indices must be integers or slices, not str",
     "output_type": "error",
     "traceback": [
      "\u001b[31m---------------------------------------------------------------------------\u001b[39m",
      "\u001b[31mTypeError\u001b[39m                                 Traceback (most recent call last)",
      "\u001b[36mCell\u001b[39m\u001b[36m \u001b[39m\u001b[32mIn[6]\u001b[39m\u001b[32m, line 1\u001b[39m\n\u001b[32m----> \u001b[39m\u001b[32m1\u001b[39m \u001b[38;5;28mprint\u001b[39m(collapse(\u001b[43msplitParagraph\u001b[49m\u001b[43m(\u001b[49m\u001b[43mdata\u001b[49m\u001b[43m[\u001b[49m\u001b[33;43m'\u001b[39;49m\u001b[33;43mblocks\u001b[39;49m\u001b[33;43m'\u001b[39;49m\u001b[43m]\u001b[49m\u001b[43m[\u001b[49m\u001b[32;43m4\u001b[39;49m\u001b[43m]\u001b[49m\u001b[43m)\u001b[49m[\u001b[32m0\u001b[39m]))\n",
      "\u001b[36mFile \u001b[39m\u001b[32m~/Projects/resource_builder/ASTcollapser.py:40\u001b[39m, in \u001b[36msplitParagraph\u001b[39m\u001b[34m(paragraph)\u001b[39m\n\u001b[32m     38\u001b[39m line:\u001b[38;5;28mlist\u001b[39m = []\n\u001b[32m     39\u001b[39m \u001b[38;5;28;01mfor\u001b[39;00m d \u001b[38;5;129;01min\u001b[39;00m paragraph[\u001b[33m'\u001b[39m\u001b[33mc\u001b[39m\u001b[33m'\u001b[39m]:\n\u001b[32m---> \u001b[39m\u001b[32m40\u001b[39m     \u001b[38;5;28;01mif\u001b[39;00m \u001b[43md\u001b[49m\u001b[43m[\u001b[49m\u001b[33;43m'\u001b[39;49m\u001b[33;43mt\u001b[39;49m\u001b[33;43m'\u001b[39;49m\u001b[43m]\u001b[49m == \u001b[33m'\u001b[39m\u001b[33mSoftBreak\u001b[39m\u001b[33m'\u001b[39m:\n\u001b[32m     41\u001b[39m         lineList.append(line)\n\u001b[32m     42\u001b[39m         line = []\n",
      "\u001b[31mTypeError\u001b[39m: list indices must be integers or slices, not str"
     ]
    }
   ],
   "source": [
    "print(collapse(splitParagraph(data['blocks'][4])[0]))"
   ]
  },
  {
   "cell_type": "code",
   "execution_count": null,
   "id": "74d63caa-db00-4989-bd81-39fdfb432d44",
   "metadata": {},
   "outputs": [],
   "source": []
  }
 ],
 "metadata": {
  "kernelspec": {
   "display_name": "Python 3 (ipykernel)",
   "language": "python",
   "name": "python3"
  },
  "language_info": {
   "codemirror_mode": {
    "name": "ipython",
    "version": 3
   },
   "file_extension": ".py",
   "mimetype": "text/x-python",
   "name": "python",
   "nbconvert_exporter": "python",
   "pygments_lexer": "ipython3",
   "version": "3.13.4"
  }
 },
 "nbformat": 4,
 "nbformat_minor": 5
}
