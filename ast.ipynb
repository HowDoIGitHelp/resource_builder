{
 "cells": [
  {
   "cell_type": "code",
   "execution_count": 1,
   "id": "bc52b686-3356-4d61-9c02-60f4dd525fd0",
   "metadata": {},
   "outputs": [
    {
     "name": "stdout",
     "output_type": "stream",
     "text": [
      "0 <mistletoe.block_token.Heading with 1 child line_number=1 level=1 at 0x7f132ff92cf0>\n",
      "1 <mistletoe.markdown_renderer.BlankLine with 0 children line_number=2 at 0x7f132ff92f90>\n",
      "2 <mistletoe.block_token.Paragraph with 15 children line_number=3 at 0x7f132ff930e0>\n",
      "3 <mistletoe.markdown_renderer.BlankLine with 0 children line_number=6 at 0x7f134c213d90>\n",
      "4 <mistletoe.block_token.Paragraph with 1 child line_number=7 at 0x7f134c213ed0>\n",
      "5 <mistletoe.markdown_renderer.BlankLine with 0 children line_number=8 at 0x7f132ee2c190>\n",
      "6 <mistletoe.block_token.Heading with 1 child line_number=9 level=2 at 0x7f132ee2c050>\n",
      "7 <mistletoe.markdown_renderer.BlankLine with 0 children line_number=10 at 0x7f132ff2b490>\n",
      "8 <mistletoe.block_token.Paragraph with 31 children line_number=11 at 0x7f132ee2cb90>\n",
      "9 <mistletoe.markdown_renderer.BlankLine with 0 children line_number=27 at 0x7f132ffccfc0>\n",
      "10 <mistletoe.block_token.Heading with 1 child line_number=28 level=1 at 0x7f132ee2ce10>\n",
      "11 <mistletoe.markdown_renderer.BlankLine with 0 children line_number=29 at 0x7f132fff9010>\n",
      "12 <mistletoe.block_token.CodeFence with 1 child line_number=30 language='python' at 0x7f132ff93230>\n"
     ]
    }
   ],
   "source": [
    "import json\n",
    "from ASTcollapser import *\n",
    "import re\n",
    "\n",
    "from mistletoe import Document\n",
    "from mistletoe.markdown_renderer import MarkdownRenderer,BlankLine\n",
    "from mistletoe.html_renderer import HTMLRenderer\n",
    "from mistletoe.block_token import List, ListItem\n",
    "\n",
    "with open('test.md','r') as mdfile:\n",
    "    with MarkdownRenderer() as renderer:\n",
    "        doc = Document(mdfile)\n",
    "        for i,child in enumerate(doc.children):\n",
    "            print(i,child)\n",
    "\n",
    "paragraphBlock = asBlock(doc.children[2])\n",
    "mathBlock = asBlock(doc.children[8])"
   ]
  },
  {
   "cell_type": "code",
   "execution_count": 5,
   "id": "ac2c957d-2b40-425f-b5a1-3b6befc4de59",
   "metadata": {},
   "outputs": [
    {
     "name": "stdout",
     "output_type": "stream",
     "text": [
      "\\begin{bmatrix}3& 1\\\\0&2\\end{bmatrix}\\vec{e} &=2\\vec{e}\n",
      "\\begin{matrix}3& 1\\\\0&2\\end{matrix}\\vec{e} &=3\\vec{e}\n"
     ]
    }
   ],
   "source": [
    "for i,line in enumerate(mathBlock._MathBlock__lines):\n",
    "    print(line._MathLine__mathTeX)"
   ]
  },
  {
   "cell_type": "code",
   "execution_count": 3,
   "id": "6acf46e8-f728-4bf5-ab5b-1feb8a0607d7",
   "metadata": {},
   "outputs": [
    {
     "name": "stdout",
     "output_type": "stream",
     "text": [
      "2\n",
      "2\n"
     ]
    }
   ],
   "source": [
    "for line in mathBlock._MathBlock__lines:\n",
    "    print(line.height())"
   ]
  },
  {
   "cell_type": "code",
   "execution_count": 4,
   "id": "6da20a75-89a3-46f1-b677-871eff8f675e",
   "metadata": {},
   "outputs": [
    {
     "data": {
      "text/plain": [
       "4"
      ]
     },
     "execution_count": 4,
     "metadata": {},
     "output_type": "execute_result"
    }
   ],
   "source": [
    "mathBlock.height()"
   ]
  },
  {
   "cell_type": "code",
   "execution_count": 6,
   "id": "ac1fa642-05e1-4bf0-b5a5-514c7d2271c1",
   "metadata": {
    "scrolled": true
   },
   "outputs": [
    {
     "name": "stdout",
     "output_type": "stream",
     "text": [
      "<class 'ASTcollapser.EmphasizedSentence'> *strong* *emphasis*\n",
      "<class 'ASTcollapser.Sentence'> strong\n",
      "<class 'ASTcollapser.Sentence'> emphasis\n"
     ]
    }
   ],
   "source": [
    "#print(type(collapse(sentence)))\n",
    "for part in collapse(sentence).importantParts():\n",
    "    print(type(part),part)\n",
    "    #for p in part.importantParts():\n",
    "     #   print(type(p), p)"
   ]
  },
  {
   "cell_type": "code",
   "execution_count": 3,
   "id": "fa930bdf-e326-4ea7-b86f-9529e6d98de7",
   "metadata": {},
   "outputs": [
    {
     "data": {
      "text/plain": [
       "131"
      ]
     },
     "execution_count": 3,
     "metadata": {},
     "output_type": "execute_result"
    }
   ],
   "source": [
    "paragraphBlock.paragraphSize()"
   ]
  },
  {
   "cell_type": "code",
   "execution_count": 4,
   "id": "70f20d04-0b8a-4c88-93c3-46f6cef31f74",
   "metadata": {},
   "outputs": [
    {
     "data": {
      "text/plain": [
       "6"
      ]
     },
     "execution_count": 4,
     "metadata": {},
     "output_type": "execute_result"
    }
   ],
   "source": [
    "lb = ListBlock(doc.children[8])\n",
    "lb.height()"
   ]
  },
  {
   "cell_type": "code",
   "execution_count": 16,
   "id": "9d395ba0-e23e-44ac-b137-4fdeeb700a92",
   "metadata": {},
   "outputs": [
    {
     "data": {
      "text/plain": [
       "'  - sub item 3.1\\n    - sub item 3.1.1\\n'"
      ]
     },
     "execution_count": 16,
     "metadata": {},
     "output_type": "execute_result"
    }
   ],
   "source": [
    "renderer.render(doc.children[8].children[2].children[1])"
   ]
  },
  {
   "cell_type": "code",
   "execution_count": 8,
   "id": "e1b23d2b-1aa2-45c8-b967-bdac7bf161c0",
   "metadata": {},
   "outputs": [
    {
     "data": {
      "text/plain": [
       "['__new__',\n",
       " '__repr__',\n",
       " '__call__',\n",
       " '__get__',\n",
       " '__closure__',\n",
       " '__doc__',\n",
       " '__globals__',\n",
       " '__module__',\n",
       " '__builtins__',\n",
       " '__code__',\n",
       " '__defaults__',\n",
       " '__kwdefaults__',\n",
       " '__annotations__',\n",
       " '__dict__',\n",
       " '__name__',\n",
       " '__qualname__',\n",
       " '__type_params__',\n",
       " '__hash__',\n",
       " '__str__',\n",
       " '__getattribute__',\n",
       " '__setattr__',\n",
       " '__delattr__',\n",
       " '__lt__',\n",
       " '__le__',\n",
       " '__eq__',\n",
       " '__ne__',\n",
       " '__gt__',\n",
       " '__ge__',\n",
       " '__init__',\n",
       " '__reduce_ex__',\n",
       " '__reduce__',\n",
       " '__getstate__',\n",
       " '__subclasshook__',\n",
       " '__init_subclass__',\n",
       " '__format__',\n",
       " '__sizeof__',\n",
       " '__dir__',\n",
       " '__class__']"
      ]
     },
     "execution_count": 8,
     "metadata": {},
     "output_type": "execute_result"
    }
   ],
   "source": [
    "ListBlock.__dir__()"
   ]
  },
  {
   "cell_type": "code",
   "execution_count": 47,
   "id": "01400213-803b-4b68-ad15-d7b3e2adf0bf",
   "metadata": {},
   "outputs": [
    {
     "data": {
      "text/plain": [
       "<mistletoe.block_token.Paragraph with 1 child line_number=14 at 0x7f2bd443c9f0>"
      ]
     },
     "execution_count": 47,
     "metadata": {},
     "output_type": "execute_result"
    }
   ],
   "source": [
    "doc.children[8].children[1].children[0]"
   ]
  },
  {
   "cell_type": "code",
   "execution_count": 68,
   "id": "2bdabf8c-4a48-488b-b2b4-d0f377bd796a",
   "metadata": {},
   "outputs": [
    {
     "name": "stdout",
     "output_type": "stream",
     "text": [
      "Found match:\n",
      "Content here\n",
      "    More content\n",
      "    \\begin{aligned}\n",
      "        Nested content\n"
     ]
    }
   ],
   "source": [
    "import re\n",
    "\n",
    "text = r\"\"\"\n",
    "Some text before\n",
    "\\begin{aligned}\n",
    "    Content here\n",
    "    More content\n",
    "    \\begin{aligned}\n",
    "        Nested content\n",
    "    \\end{aligned}\n",
    "\\end{aligned}\n",
    "Some text after\n",
    "\"\"\"\n",
    "\n",
    "pattern = re.compile(r'\\\\begin{aligned}(.*?)\\\\end{aligned}', re.DOTALL)\n",
    "matches = pattern.findall(text)\n",
    "\n",
    "for match in matches:\n",
    "    print(\"Found match:\")\n",
    "    print(match.strip())"
   ]
  },
  {
   "cell_type": "code",
   "execution_count": null,
   "id": "9d7b581f-abc4-476b-bb08-7861a8d5d5c7",
   "metadata": {},
   "outputs": [],
   "source": []
  }
 ],
 "metadata": {
  "kernelspec": {
   "display_name": "Python 3 (ipykernel)",
   "language": "python",
   "name": "python3"
  },
  "language_info": {
   "codemirror_mode": {
    "name": "ipython",
    "version": 3
   },
   "file_extension": ".py",
   "mimetype": "text/x-python",
   "name": "python",
   "nbconvert_exporter": "python",
   "pygments_lexer": "ipython3",
   "version": "3.13.4"
  }
 },
 "nbformat": 4,
 "nbformat_minor": 5
}
